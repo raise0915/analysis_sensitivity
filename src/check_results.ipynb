{
 "cells": [
  {
   "cell_type": "code",
   "execution_count": null,
   "metadata": {},
   "outputs": [],
   "source": [
    "import numpy as np\n",
    "from matplotlib import pyplot as plt\n",
    "from mpl_toolkits.axes_grid1 import make_axes_locatable\n",
    "from matplotlib.colors import LogNorm\n",
    "from cycler import cycler\n",
    "\n",
    "\n",
    "import os\n",
    "import json\n",
    "\n",
    "from src.tools.calc_dvh import calc_dvh, calc_log_dvh_with_log\n",
    "from cylinder import create_rotated_cylinder_mask"
   ]
  },
  {
   "cell_type": "code",
   "execution_count": null,
   "metadata": {},
   "outputs": [],
   "source": [
    "plt.rcParams[\"axes.spines.right\"] = False\n",
    "plt.rcParams[\"axes.spines.top\"] = False"
   ]
  },
  {
   "cell_type": "code",
   "execution_count": null,
   "metadata": {},
   "outputs": [],
   "source": [
    "energy = 150*(10**-3)*667*np.pi*0.5*0.5*100 # 150mW/cm^2 * 667 s * beam surface cm2 * 100 mm2 to cm2 \n",
    "cylinder_radius = 1\n",
    "cylinder_height = 22\n",
    "dims = [600, 600, 600]\n",
    "\n",
    "model_name = \"/home/raise/mcx_simulation/analysis_sensitivity/test_res\""
   ]
  },
  {
   "cell_type": "markdown",
   "metadata": {},
   "source": [
    "## model 読み込み"
   ]
  },
  {
   "cell_type": "code",
   "execution_count": null,
   "metadata": {},
   "outputs": [],
   "source": [
    "with open(os.path.join(\"src/results\", f\"{model_name}_0.mc2\"), 'rb') as f:\n",
    "    data1 = np.fromfile(f, dtype=np.float32).reshape([600, 600, 600], order='F')\n",
    "    data1 *= energy\n",
    "\n",
    "with open(os.path.join(\"src/results\", f\"{model_name}_1.mc2\"), 'rb') as f:\n",
    "    data2 = np.fromfile(f, dtype=np.float32).reshape([600, 600, 600], order='F')\n",
    "    data2 *= energy\n",
    "\n",
    "with open(f\"models/results_{model_name}_k1.bin\", 'rb') as f:\n",
    "    model = np.fromfile(f, dtype=np.uint8).reshape([600, 600, 600], order='F')\n",
    "\n",
    "data = data1 + data2"
   ]
  },
  {
   "cell_type": "markdown",
   "metadata": {},
   "source": [
    "## 二次元分布"
   ]
  },
  {
   "cell_type": "code",
   "execution_count": null,
   "metadata": {},
   "outputs": [],
   "source": [
    "nx, ny, nz = cfg['position']\n",
    "\n",
    "fig, axs = plt.subplots(1, 2, figsize=(15, 10))\n",
    "axs[0].imshow(model[nx,:,:],origin=\"lower\",cmap='Oranges')\n",
    "axs[0].set_title(\"origin\")\n",
    "\n",
    "a = axs[1].imshow(data[nx,:, :],origin=\"lower\", norm=LogNorm())\n",
    "axs[1].set_title(\"tumour\")\n",
    "divider = make_axes_locatable(axs[1]) #axに紐付いたAxesDividerを取得\n",
    "cax = divider.append_axes(\"right\", size=\"5%\", pad=0.1) #append_axesで新しいaxesを作成\n",
    "cbar = fig.colorbar(a, cax=cax)  # カラーバーのサイズをaxs[0]のサイズに合わせる\n",
    "\n",
    "plt.show()\n",
    "\n",
    "\n",
    "fig, axs = plt.subplots(1, 2, figsize=(15, 10))\n",
    "axs[0].imshow(model[:,ny,:],origin=\"lower\",cmap='Oranges')\n",
    "axs[0].set_title(\"origin\")\n",
    "\n",
    "a = axs[1].imshow(data[:,ny, :],origin=\"lower\", norm=LogNorm())\n",
    "axs[1].set_title(\"tumour\")\n",
    "divider = make_axes_locatable(axs[1]) #axに紐付いたAxesDividerを取得\n",
    "cax = divider.append_axes(\"right\", size=\"5%\", pad=0.1) #append_axesで新しいaxesを作成\n",
    "cbar = fig.colorbar(a, cax=cax)  # カラーバーのサイズをaxs[0]のサイズに合わせる\n",
    "plt.show()\n",
    "\n",
    "fig, axs = plt.subplots(1, 2, figsize=(15, 10))\n",
    "axs[0].imshow(model[:,:,nz],origin=\"lower\",cmap='Oranges')\n",
    "axs[0].set_title(\"origin\")\n",
    "\n",
    "a = axs[1].imshow(data[:,:,nz],origin=\"lower\", norm=LogNorm())\n",
    "axs[1].set_title(\"tumour\")\n",
    "divider = make_axes_locatable(axs[1]) #axに紐付いたAxesDividerを取得\n",
    "cax = divider.append_axes(\"right\", size=\"5%\", pad=0.1) #append_axesで新しいaxesを作成\n",
    "cbar = fig.colorbar(a, cax=cax)  # カラーバーのサイズをaxs[0]のサイズに合わせる\n",
    "plt.show()"
   ]
  },
  {
   "cell_type": "markdown",
   "metadata": {},
   "source": [
    "## DVH"
   ]
  },
  {
   "cell_type": "code",
   "execution_count": null,
   "metadata": {},
   "outputs": [],
   "source": [
    "c = plt.get_cmap(\"Set2\")\n",
    "colors = c(np.arange(0, c.N))\n",
    "# colors = [c(1.*i/7) for i in range(3)]\n",
    "plt.rcParams[\"axes.prop_cycle\"] = cycler(\"color\", colors)\n",
    "\n",
    "fig, axs = plt.subplots(1,3, figsize=(16, 5))\n",
    "\n",
    "for ax_num, res in enumerate([[data, \"total\"], [data1, \"1st irrad\"], [data2, \"2nd irrad\"]]):\n",
    "    cum_rel_dvh_t, cum_rel_dvh_b, cum_rel_dvh_l, bin_edges = calc_log_dvh_with_log(res[0], model)\n",
    "    axs[ax_num].plot(bin_edges[:-1], cum_rel_dvh_b, label='Bronchi')\n",
    "    axs[ax_num].plot(bin_edges[:-1], cum_rel_dvh_t, label='Tumour')\n",
    "    axs[ax_num].plot(bin_edges[:-1], cum_rel_dvh_l, label='Lung Tissue')\n",
    "    axs[ax_num].set_xlabel('Dose [J/cm2]')\n",
    "    axs[ax_num].set_ylabel('Volume [%]')\n",
    "    axs[ax_num].set_xscale('log')\n",
    "    axs[ax_num].set_title(res[1])\n",
    "    axs[ax_num].legend()\n",
    "    \n",
    "\n",
    "plt.show()"
   ]
  }
 ],
 "metadata": {
  "language_info": {
   "name": "python"
  }
 },
 "nbformat": 4,
 "nbformat_minor": 2
}
